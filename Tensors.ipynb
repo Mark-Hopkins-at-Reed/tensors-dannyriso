{
 "cells": [
  {
   "cell_type": "markdown",
   "metadata": {},
   "source": [
    "# Introduction to Tensors and Torch"
   ]
  },
  {
   "cell_type": "markdown",
   "metadata": {},
   "source": [
    "**\"In mathematics, a tensor is an arbitrarily complex geometric object that maps in a multi-linear manner geometric vectors, scalars, and other tensors to a resulting tensor.\"** -- Wikipedia\n",
    "\n"
   ]
  },
  {
   "cell_type": "markdown",
   "metadata": {},
   "source": [
    "Here's another excerpt from the Wikipedia article on tensors:\n",
    "\n",
    "> *Although seemingly different, the various approaches to defining tensors describe the same geometric concept using different language and at different levels of abstraction.*\n",
    "> ### *As multidimensional arrays*\n",
    "> *A tensor may be represented as a (potentially multidimensional) array (although a multidimensional array is not necessarily a representation of a tensor, as discussed below with regard to holors).*"
   ]
  },
  {
   "cell_type": "markdown",
   "metadata": {},
   "source": [
    "In this class, when we say **tensor**, we will just mean **a multidimensional array**. But the term **dimension** can get confusingly overloaded here. Let's see why.\n",
    "\n",
    "A 1-dimensional tensor is just a vector. In this class, we'll predominantly be using the ```torch``` package for manipulating tensors. In ```torch```, we create a vector as follows:"
   ]
  },
  {
   "cell_type": "code",
   "execution_count": 2,
   "metadata": {},
   "outputs": [
    {
     "data": {
      "text/plain": [
       "tensor([4, 5, 6, 7, 8])"
      ]
     },
     "execution_count": 2,
     "metadata": {},
     "output_type": "execute_result"
    }
   ],
   "source": [
    "from torch import tensor\n",
    "v = tensor([4, 5, 6, 7, 8])\n",
    "v"
   ]
  },
  {
   "cell_type": "markdown",
   "metadata": {},
   "source": [
    "Ok, but then this ends up being described as a vector of dimension 5, or **a 1-dimensional tensor of dimension 5**. Which is super confusing. So typically, when refer to these separate concepts as the **order** and the **shape**. So this is an **order-1 tensor of shape (5)**. We can get these numbers from the tensor."
   ]
  },
  {
   "cell_type": "code",
   "execution_count": 3,
   "metadata": {},
   "outputs": [
    {
     "name": "stdout",
     "output_type": "stream",
     "text": [
      "The order of the tensor is 1.\n",
      "The shape of the tensor is torch.Size([5]).\n"
     ]
    }
   ],
   "source": [
    "print('The order of the tensor is {}.'.format(v.dim()))\n",
    "print('The shape of the tensor is {}.'.format(v.shape))"
   ]
  },
  {
   "cell_type": "markdown",
   "metadata": {},
   "source": [
    "Note that ```.shape``` is an attribute of the tensor, not a method call. You can get parts of vectors in a similar way you would for Python lists."
   ]
  },
  {
   "cell_type": "code",
   "execution_count": 4,
   "metadata": {},
   "outputs": [
    {
     "name": "stdout",
     "output_type": "stream",
     "text": [
      "tensor([4, 5, 6])\n",
      "tensor([6, 7, 8])\n",
      "tensor([6, 7])\n"
     ]
    }
   ],
   "source": [
    "print(v[:3]) # Should print tensor([4, 5, 6])\n",
    "print(v[2:]) # Should print tensor([6, 7, 8])\n",
    "print(v[2:4]) # Should print tensor([6, 7])"
   ]
  },
  {
   "cell_type": "markdown",
   "metadata": {},
   "source": [
    "**Exercise:** what's a simple way to extract the vector ```[4, 6, 8]```?"
   ]
  },
  {
   "cell_type": "code",
   "execution_count": 5,
   "metadata": {},
   "outputs": [
    {
     "name": "stdout",
     "output_type": "stream",
     "text": [
      "tensor([4, 6, 8])\n"
     ]
    }
   ],
   "source": [
    "print(v[::2]) # returns tensor([4, 6, 8])"
   ]
  },
  {
   "cell_type": "markdown",
   "metadata": {},
   "source": [
    "An important special case is converting an order-1 tensor into a scalar. In ```torch```, they recommend doing this using ```.item()```."
   ]
  },
  {
   "cell_type": "code",
   "execution_count": 6,
   "metadata": {},
   "outputs": [
    {
     "data": {
      "text/plain": [
       "12"
      ]
     },
     "execution_count": 6,
     "metadata": {},
     "output_type": "execute_result"
    }
   ],
   "source": [
    "w = tensor([12]) # An order-1 tensor of shape 1; a tensor with one element\n",
    "w.item()"
   ]
  },
  {
   "cell_type": "markdown",
   "metadata": {},
   "source": [
    "Note that ```.item()``` will throw an exception if you apply it to a non-singleton."
   ]
  },
  {
   "cell_type": "code",
   "execution_count": null,
   "metadata": {},
   "outputs": [],
   "source": [
    "v.item()"
   ]
  },
  {
   "cell_type": "markdown",
   "metadata": {},
   "source": [
    "An order-2 tensor is a **matrix**. Here's how we would create a matrix with 4 rows and 3 columns using ```torch```."
   ]
  },
  {
   "cell_type": "code",
   "execution_count": 7,
   "metadata": {},
   "outputs": [
    {
     "name": "stdout",
     "output_type": "stream",
     "text": [
      "tensor([[ 4,  5,  6],\n",
      "        [ 7,  8,  9],\n",
      "        [10, 11, 12],\n",
      "        [13, 14, 15]])\n",
      "The order of M is 2.\n",
      "The shape of M is torch.Size([4, 3]).\n"
     ]
    }
   ],
   "source": [
    "import torch\n",
    "M = tensor([[4, 5, 6], [7, 8, 9], [10, 11, 12], [13, 14, 15]])\n",
    "print(M)\n",
    "print('The order of M is {}.'.format(M.dim()))\n",
    "print('The shape of M is {}.'.format(M.shape))"
   ]
  },
  {
   "cell_type": "markdown",
   "metadata": {},
   "source": [
    "How do we get submatrices? It's sort of like the syntax for getting parts of Python lists, though a bit weird to get used to."
   ]
  },
  {
   "cell_type": "code",
   "execution_count": 8,
   "metadata": {},
   "outputs": [
    {
     "name": "stdout",
     "output_type": "stream",
     "text": [
      "tensor([[ 4,  5,  6],\n",
      "        [ 7,  8,  9],\n",
      "        [10, 11, 12],\n",
      "        [13, 14, 15]])\n",
      "tensor([[4, 5, 6],\n",
      "        [7, 8, 9]])\n"
     ]
    }
   ],
   "source": [
    "print(M) \n",
    "print(M[:2]) # first two rows"
   ]
  },
  {
   "cell_type": "code",
   "execution_count": 9,
   "metadata": {},
   "outputs": [
    {
     "name": "stdout",
     "output_type": "stream",
     "text": [
      "tensor([[ 4,  5,  6],\n",
      "        [ 7,  8,  9],\n",
      "        [10, 11, 12],\n",
      "        [13, 14, 15]])\n",
      "tensor([[10, 11, 12],\n",
      "        [13, 14, 15]])\n"
     ]
    }
   ],
   "source": [
    "print(M) \n",
    "print(M[2:4]) # last two rows"
   ]
  },
  {
   "cell_type": "code",
   "execution_count": 10,
   "metadata": {},
   "outputs": [
    {
     "name": "stdout",
     "output_type": "stream",
     "text": [
      "tensor([[ 4,  5,  6],\n",
      "        [ 7,  8,  9],\n",
      "        [10, 11, 12],\n",
      "        [13, 14, 15]])\n",
      "tensor([[ 4,  5,  6],\n",
      "        [10, 11, 12]])\n"
     ]
    }
   ],
   "source": [
    "print(M) \n",
    "print(M[0::2]) # every second row"
   ]
  },
  {
   "cell_type": "code",
   "execution_count": 13,
   "metadata": {},
   "outputs": [
    {
     "name": "stdout",
     "output_type": "stream",
     "text": [
      "tensor([[ 4,  5,  6],\n",
      "        [ 7,  8,  9],\n",
      "        [10, 11, 12],\n",
      "        [13, 14, 15]])\n",
      "tensor([[ 4,  5],\n",
      "        [ 7,  8],\n",
      "        [10, 11],\n",
      "        [13, 14]])\n"
     ]
    }
   ],
   "source": [
    "print(M) \n",
    "print(M[ : , :2]) # first two columns\n",
    "    # M[ selection for rows, selection for columns]"
   ]
  },
  {
   "cell_type": "code",
   "execution_count": 14,
   "metadata": {},
   "outputs": [
    {
     "name": "stdout",
     "output_type": "stream",
     "text": [
      "tensor([[ 4,  5,  6],\n",
      "        [ 7,  8,  9],\n",
      "        [10, 11, 12],\n",
      "        [13, 14, 15]])\n",
      "tensor([[ 6],\n",
      "        [ 9],\n",
      "        [12],\n",
      "        [15]])\n"
     ]
    }
   ],
   "source": [
    "print(M) \n",
    "print(M[:,2:3]) # last column"
   ]
  },
  {
   "cell_type": "code",
   "execution_count": 15,
   "metadata": {},
   "outputs": [
    {
     "name": "stdout",
     "output_type": "stream",
     "text": [
      "tensor([[ 4,  5,  6],\n",
      "        [ 7,  8,  9],\n",
      "        [10, 11, 12],\n",
      "        [13, 14, 15]])\n",
      "tensor([[ 4,  6],\n",
      "        [ 7,  9],\n",
      "        [10, 12],\n",
      "        [13, 15]])\n"
     ]
    }
   ],
   "source": [
    "print(M) \n",
    "print(M[:,0::2]) # every second column"
   ]
  },
  {
   "cell_type": "markdown",
   "metadata": {},
   "source": [
    "**Exercise:** How do you extract ```tensor([[7, 9], [10, 12]])```?"
   ]
  },
  {
   "cell_type": "code",
   "execution_count": 16,
   "metadata": {},
   "outputs": [
    {
     "name": "stdout",
     "output_type": "stream",
     "text": [
      "tensor([[ 7,  9],\n",
      "        [10, 12]])\n"
     ]
    }
   ],
   "source": [
    "print(M[1:3,::2])"
   ]
  },
  {
   "cell_type": "markdown",
   "metadata": {},
   "source": [
    "You can do the usual elementwise operations on matrices, and transpose them."
   ]
  },
  {
   "cell_type": "code",
   "execution_count": 19,
   "metadata": {},
   "outputs": [
    {
     "name": "stdout",
     "output_type": "stream",
     "text": [
      "tensor([[ 4,  5,  6],\n",
      "        [ 7,  8,  9],\n",
      "        [10, 11, 12],\n",
      "        [13, 14, 15]])\n",
      "\n",
      "tensor([[ 8, 10, 12],\n",
      "        [14, 16, 18],\n",
      "        [20, 22, 24],\n",
      "        [26, 28, 30]])\n",
      "tensor([[12, 15, 18],\n",
      "        [21, 24, 27],\n",
      "        [30, 33, 36],\n",
      "        [39, 42, 45]])\n",
      "tensor([[ 16,  25,  36],\n",
      "        [ 49,  64,  81],\n",
      "        [100, 121, 144],\n",
      "        [169, 196, 225]])\n",
      "tensor([[ 4,  7, 10, 13],\n",
      "        [ 5,  8, 11, 14],\n",
      "        [ 6,  9, 12, 15]])\n"
     ]
    }
   ],
   "source": [
    "print(M)\n",
    "print()\n",
    "print(M+M)\n",
    "print(3*M)\n",
    "print(M*M) # note: this is elementwise multiplication (sometimes called Hadamard product), not matrix multiplication!\n",
    "print(M.t())"
   ]
  },
  {
   "cell_type": "markdown",
   "metadata": {},
   "source": [
    "You can do standard matrix multiplication with the ```.mm()``` method."
   ]
  },
  {
   "cell_type": "code",
   "execution_count": 22,
   "metadata": {},
   "outputs": [
    {
     "name": "stdout",
     "output_type": "stream",
     "text": [
      "tensor([[ 4,  5,  6],\n",
      "        [ 7,  8,  9],\n",
      "        [10, 11, 12],\n",
      "        [13, 14, 15]])\n",
      "tensor([[ 4,  7, 10, 13],\n",
      "        [ 5,  8, 11, 14],\n",
      "        [ 6,  9, 12, 15]])\n",
      "\n",
      "tensor([[ 77, 122, 167, 212],\n",
      "        [122, 194, 266, 338],\n",
      "        [167, 266, 365, 464],\n",
      "        [212, 338, 464, 590]])\n"
     ]
    }
   ],
   "source": [
    "print(M)\n",
    "print(M.t())\n",
    "print()\n",
    "print(M.mm(M.t()))"
   ]
  },
  {
   "cell_type": "markdown",
   "metadata": {},
   "source": [
    "One issue that is likely going to bite you again and again is the datatype of matrices, which tells you what the entries of the matrices are: usually either floating point (of some kind) or integer (of some kind). ```torch``` does its best to guess what you want, but it's not psychic. For the matrix ```M2```, it assumes that because all the initialized entries are integers, then we want a matrix with an integer datatype."
   ]
  },
  {
   "cell_type": "code",
   "execution_count": 23,
   "metadata": {},
   "outputs": [
    {
     "name": "stdout",
     "output_type": "stream",
     "text": [
      "torch.int64\n"
     ]
    }
   ],
   "source": [
    "M2 = tensor([[4,5,6],[2,8,9],[1,7,3]])\n",
    "print(M2.dtype)"
   ]
  },
  {
   "cell_type": "markdown",
   "metadata": {},
   "source": [
    "But maybe we wanted these to be floating point, and unsuspectingly try to take the matrix inverse."
   ]
  },
  {
   "cell_type": "code",
   "execution_count": 24,
   "metadata": {},
   "outputs": [
    {
     "ename": "RuntimeError",
     "evalue": "\"inverse_cpu\" not implemented for 'Long'",
     "output_type": "error",
     "traceback": [
      "\u001b[1;31m---------------------------------------------------------------------------\u001b[0m",
      "\u001b[1;31mRuntimeError\u001b[0m                              Traceback (most recent call last)",
      "\u001b[1;32m<ipython-input-24-05f3848b2cc7>\u001b[0m in \u001b[0;36m<module>\u001b[1;34m\u001b[0m\n\u001b[1;32m----> 1\u001b[1;33m \u001b[0mtorch\u001b[0m\u001b[1;33m.\u001b[0m\u001b[0minverse\u001b[0m\u001b[1;33m(\u001b[0m\u001b[0mM2\u001b[0m\u001b[1;33m)\u001b[0m\u001b[1;33m\u001b[0m\u001b[1;33m\u001b[0m\u001b[0m\n\u001b[0m",
      "\u001b[1;31mRuntimeError\u001b[0m: \"inverse_cpu\" not implemented for 'Long'"
     ]
    }
   ],
   "source": [
    "torch.inverse(M2)"
   ]
  },
  {
   "cell_type": "markdown",
   "metadata": {},
   "source": [
    "Essentially it's complaining that a matrix of datatype ```torch.int64``` (a so-called ```LongTensor```) can't be inverted, because there's no integer matrix ```M^-1``` by which we can multiply it such that ```M * M^-1 = I```. So we need to tell it explicitly that we want to treat matrix ```M``` as a floating-point matrix."
   ]
  },
  {
   "cell_type": "code",
   "execution_count": 33,
   "metadata": {},
   "outputs": [
    {
     "name": "stdout",
     "output_type": "stream",
     "text": [
      "tensor([[ 0.3714, -0.2571,  0.0286],\n",
      "        [-0.0286, -0.0571,  0.2286],\n",
      "        [-0.0571,  0.2190, -0.2095]])\n",
      "tensor([[ 1.0000e+00,  8.9407e-08, -8.9407e-08],\n",
      "        [-3.3528e-08,  1.0000e+00, -1.4901e-08],\n",
      "        [-2.6077e-08, -1.4901e-08,  1.0000e+00]])\n"
     ]
    }
   ],
   "source": [
    "M2 = M2.float()\n",
    "M2inv = torch.inverse(M2)\n",
    "print(M2inv)\n",
    "I = M2.mm(M2inv)\n",
    "print(I)"
   ]
  },
  {
   "cell_type": "markdown",
   "metadata": {},
   "source": [
    "**Exercise:** How do we convert this back to a LongTensor?"
   ]
  },
  {
   "cell_type": "code",
   "execution_count": 35,
   "metadata": {},
   "outputs": [
    {
     "name": "stdout",
     "output_type": "stream",
     "text": [
      "tensor([[1, 0, 0],\n",
      "        [0, 1, 0],\n",
      "        [0, 0, 1]])\n",
      "torch.int64\n"
     ]
    }
   ],
   "source": [
    "Iint = I.round().long()\n",
    "print(Iint)\n",
    "print(Iint.dtype)"
   ]
  },
  {
   "cell_type": "markdown",
   "metadata": {},
   "source": [
    "```reshape``` is a kind of magical operation that repacks the elements of a matrix into a different shape by copying the elements row by row."
   ]
  },
  {
   "cell_type": "code",
   "execution_count": 36,
   "metadata": {},
   "outputs": [
    {
     "name": "stdout",
     "output_type": "stream",
     "text": [
      "tensor([[ 4,  5,  6],\n",
      "        [ 7,  8,  9],\n",
      "        [10, 11, 12],\n",
      "        [13, 14, 15]])\n",
      "tensor([[ 4,  5,  6,  7,  8,  9],\n",
      "        [10, 11, 12, 13, 14, 15]])\n",
      "tensor([ 4,  5,  6,  7,  8,  9, 10, 11, 12, 13, 14, 15])\n"
     ]
    }
   ],
   "source": [
    "print(M)\n",
    "print(M.reshape((2, 6)))\n",
    "print(M.reshape(12))"
   ]
  },
  {
   "cell_type": "markdown",
   "metadata": {},
   "source": [
    "```torch``` supports the notion of **broadcasting**, which allows us to conveniently use elementwise operators over tensors of different orders. For instance, if we add a vector ```v``` of shape (3) to a matrix ```M``` of shape (4,3), then ```torch``` assumes that we want to add two (4,3) matrices. One is just ```M```. The other is 4 copies of vector ```v``` piled on top of each other to make another (4,3) matrix. Surprisingly this turns out to be useful. In general, you can use broadcasting to apply elementwise operations if one tensor has shape (a, b, ... n, n + 1, ... m) and the other has shape (n, n + 1, ... m). "
   ]
  },
  {
   "cell_type": "code",
   "execution_count": 40,
   "metadata": {
    "scrolled": false
   },
   "outputs": [
    {
     "name": "stdout",
     "output_type": "stream",
     "text": [
      "M and v: tensor([1, 2, 3])\n",
      "tensor([[ 5,  7,  9],\n",
      "        [ 8, 10, 12],\n",
      "        [11, 13, 15],\n",
      "        [14, 16, 18]])\n",
      "M and v_order2: tensor([[1, 2, 3],\n",
      "        [1, 2, 3],\n",
      "        [1, 2, 3],\n",
      "        [1, 2, 3]])\n",
      "tensor([[ 5,  7,  9],\n",
      "        [ 8, 10, 12],\n",
      "        [11, 13, 15],\n",
      "        [14, 16, 18]])\n"
     ]
    }
   ],
   "source": [
    "v = tensor([1, 2, 3])\n",
    "v_order2 = tensor([[1, 2, 3], [1, 2, 3], [1, 2, 3], [1, 2, 3]])\n",
    "M = tensor([[4, 5, 6], [7, 8, 9], [10, 11, 12], [13, 14, 15]])\n",
    "print('M and v:', v)\n",
    "print(M+v)\n",
    "print('M and v_order2:', v_order2)\n",
    "print(M+v_order2)"
   ]
  },
  {
   "cell_type": "markdown",
   "metadata": {},
   "source": [
    "Can you think of an example of an order-3 tensor, famous in pop culture? Hint, its shape is (3, 3, 3)."
   ]
  },
  {
   "cell_type": "markdown",
   "metadata": {},
   "source": [
    "![order-three tensor](img/mystery.jpg \"Order 3 tensor\")\n"
   ]
  },
  {
   "cell_type": "markdown",
   "metadata": {},
   "source": [
    "Another useful order-3 tensor is an image file. Consider this image of the Swiss flag:\n",
    "\n",
    "![swiss flag](img/swiss.gif \"Swiss flag\")\n",
    "\n",
    "We can view the pixels as a 5x5 matrix. If this were a black-and-white image, it would look like:"
   ]
  },
  {
   "cell_type": "code",
   "execution_count": 41,
   "metadata": {},
   "outputs": [
    {
     "name": "stdout",
     "output_type": "stream",
     "text": [
      "tensor([[0, 0, 0, 0, 0],\n",
      "        [0, 0, 1, 0, 0],\n",
      "        [0, 1, 1, 1, 0],\n",
      "        [0, 0, 1, 0, 0],\n",
      "        [0, 0, 0, 0, 0]])\n"
     ]
    }
   ],
   "source": [
    "SWISS_FLAG_BW = tensor([[0,0,0,0,0],[0,0,1,0,0],[0,1,1,1,0],[0,0,1,0,0],[0,0,0,0,0]])\n",
    "print(SWISS_FLAG_BW)"
   ]
  },
  {
   "cell_type": "markdown",
   "metadata": {},
   "source": [
    "But it isn't a black-and-white image, it's a color image, which means that for each pixel, there's a red value (from 0-255), a green value (from 0-255), and a blue value (from 0-255)."
   ]
  },
  {
   "cell_type": "markdown",
   "metadata": {},
   "source": [
    "**Exercise:** Represent the Swiss flag as an order-three tensor."
   ]
  },
  {
   "cell_type": "code",
   "execution_count": 44,
   "metadata": {},
   "outputs": [
    {
     "name": "stdout",
     "output_type": "stream",
     "text": [
      "tensor([[[255, 255, 255, 255, 255],\n",
      "         [255, 255, 255, 255, 255],\n",
      "         [255, 255, 255, 255, 255],\n",
      "         [255, 255, 255, 255, 255],\n",
      "         [255, 255, 255, 255, 255]],\n",
      "\n",
      "        [[  0,   0,   0,   0,   0],\n",
      "         [  0,   0, 255,   0,   0],\n",
      "         [  0, 255, 255, 255,   0],\n",
      "         [  0,   0, 255,   0,   0],\n",
      "         [  0,   0,   0,   0,   0]],\n",
      "\n",
      "        [[  0,   0,   0,   0,   0],\n",
      "         [  0,   0, 255,   0,   0],\n",
      "         [  0, 255, 255, 255,   0],\n",
      "         [  0,   0, 255,   0,   0],\n",
      "         [  0,   0,   0,   0,   0]]])\n",
      "The Swiss flag has shape: torch.Size([3, 5, 5]).\n"
     ]
    }
   ],
   "source": [
    "SWISS_FLAG = tensor( [ [ [255,255,255,255,255],\n",
    "                         [255,255,255,255,255],\n",
    "                         [255,255,255,255,255],\n",
    "                         [255,255,255,255,255],\n",
    "                         [255,255,255,255,255]],\n",
    "                       [[0,0,0,0,0],\n",
    "                        [0,0,255,0,0],\n",
    "                        [0,255,255,255,0],\n",
    "                        [0,0,255,0,0],\n",
    "                        [0,0,0,0,0],],\n",
    "                      [[0,0,0,0,0],\n",
    "                        [0,0,255,0,0],\n",
    "                        [0,255,255,255,0],\n",
    "                        [0,0,255,0,0],\n",
    "                        [0,0,0,0,0],]\n",
    "                     ]) # TODO: complete this line\n",
    "print(SWISS_FLAG)\n",
    "print('The Swiss flag has shape: {}.'.format(SWISS_FLAG.shape))"
   ]
  },
  {
   "cell_type": "markdown",
   "metadata": {},
   "source": [
    "Sometimes it can be easier to use torch's tensor concatenation operations to construct these."
   ]
  },
  {
   "cell_type": "code",
   "execution_count": 45,
   "metadata": {},
   "outputs": [
    {
     "name": "stdout",
     "output_type": "stream",
     "text": [
      "tensor([[[255, 255, 255, 255, 255],\n",
      "         [255, 255, 255, 255, 255],\n",
      "         [255, 255, 255, 255, 255],\n",
      "         [255, 255, 255, 255, 255],\n",
      "         [255, 255, 255, 255, 255]],\n",
      "\n",
      "        [[  0,   0,   0,   0,   0],\n",
      "         [  0,   0, 255,   0,   0],\n",
      "         [  0, 255, 255, 255,   0],\n",
      "         [  0,   0, 255,   0,   0],\n",
      "         [  0,   0,   0,   0,   0]],\n",
      "\n",
      "        [[  0,   0,   0,   0,   0],\n",
      "         [  0,   0, 255,   0,   0],\n",
      "         [  0, 255, 255, 255,   0],\n",
      "         [  0,   0, 255,   0,   0],\n",
      "         [  0,   0,   0,   0,   0]]])\n",
      "The Swiss flag has shape: torch.Size([3, 5, 5]).\n"
     ]
    }
   ],
   "source": [
    "SWISS_FLAG_RED = tensor( [ [255,255,255,255,255],\n",
    "                           [255,255,255,255,255],\n",
    "                           [255,255,255,255,255],\n",
    "                           [255,255,255,255,255],\n",
    "                           [255,255,255,255,255]])\n",
    "\n",
    "SWISS_FLAG_GREEN = tensor([[0,0,0,0,0],\n",
    "                           [0,0,255,0,0],\n",
    "                           [0,255,255,255,0],\n",
    "                           [0,0,255,0,0],\n",
    "                           [0,0,0,0,0]])\n",
    "\n",
    "SWISS_FLAG_BLUE  = tensor([[0,0,0,0,0],\n",
    "                           [0,0,255,0,0],\n",
    "                           [0,255,255,255,0],\n",
    "                           [0,0,255,0,0],\n",
    "                           [0,0,0,0,0]])\n",
    "\n",
    "SWISS_FLAG = torch.stack([SWISS_FLAG_RED, SWISS_FLAG_GREEN, SWISS_FLAG_BLUE])\n",
    "print(SWISS_FLAG)\n",
    "print('The Swiss flag has shape: {}.'.format(SWISS_FLAG.shape))"
   ]
  },
  {
   "cell_type": "markdown",
   "metadata": {},
   "source": [
    "We can actually display this image in this notebook using a plotting library called ```matplotlib``` (which, if you don't have, make sure you ```pip install matplotlib```). The problem is, it expects the image tensor to have shape ```(5,5,3)```, rather than ```(3,5,5)```. In other words, rather than ```(color,x,y)``` coordinates, it expects ```(x,y,color)``` coordinates. Luckily, higher-order tensors have generalized transpose operations that swap arbitrary axes."
   ]
  },
  {
   "cell_type": "code",
   "execution_count": 46,
   "metadata": {},
   "outputs": [
    {
     "name": "stdout",
     "output_type": "stream",
     "text": [
      "torch.Size([2, 2, 2])\n",
      "tensor([[[1, 2],\n",
      "         [3, 4]],\n",
      "\n",
      "        [[5, 6],\n",
      "         [7, 8]]])\n",
      "tensor([[[1, 2],\n",
      "         [5, 6]],\n",
      "\n",
      "        [[3, 4],\n",
      "         [7, 8]]])\n"
     ]
    }
   ],
   "source": [
    "T = tensor([[[1,2], [3,4]], [[5,6], [7,8]]])\n",
    "print(T.shape)\n",
    "print(T)\n",
    "print(T.transpose(0,1))"
   ]
  },
  {
   "cell_type": "code",
   "execution_count": 47,
   "metadata": {
    "scrolled": true
   },
   "outputs": [
    {
     "name": "stdout",
     "output_type": "stream",
     "text": [
      "tensor([[[1, 2],\n",
      "         [3, 4]],\n",
      "\n",
      "        [[5, 6],\n",
      "         [7, 8]]])\n",
      "tensor([[[1, 5],\n",
      "         [3, 7]],\n",
      "\n",
      "        [[2, 6],\n",
      "         [4, 8]]])\n"
     ]
    }
   ],
   "source": [
    "print(T)\n",
    "print(T.transpose(0,2))"
   ]
  },
  {
   "cell_type": "code",
   "execution_count": 48,
   "metadata": {},
   "outputs": [
    {
     "name": "stdout",
     "output_type": "stream",
     "text": [
      "tensor([[[1, 2],\n",
      "         [3, 4]],\n",
      "\n",
      "        [[5, 6],\n",
      "         [7, 8]]])\n",
      "tensor([[[1, 3],\n",
      "         [2, 4]],\n",
      "\n",
      "        [[5, 7],\n",
      "         [6, 8]]])\n"
     ]
    }
   ],
   "source": [
    "print(T)\n",
    "print(T.transpose(1,2))"
   ]
  },
  {
   "cell_type": "markdown",
   "metadata": {},
   "source": [
    "**Exercise:** Convert the Swiss flag into an image tensor."
   ]
  },
  {
   "cell_type": "code",
   "execution_count": 53,
   "metadata": {},
   "outputs": [
    {
     "name": "stdout",
     "output_type": "stream",
     "text": [
      "The original flag shape: torch.Size([3, 5, 5]).\n",
      "The modified flag shape: torch.Size([5, 5, 3]).\n"
     ]
    },
    {
     "data": {
      "text/plain": [
       "<matplotlib.image.AxesImage at 0x18eb82edd48>"
      ]
     },
     "execution_count": 53,
     "metadata": {},
     "output_type": "execute_result"
    },
    {
     "data": {
      "image/png": "[encoded data removed]",
      "text/plain": [
       "<Figure size 432x288 with 1 Axes>"
      ]
     },
     "metadata": {
      "needs_background": "light"
     },
     "output_type": "display_data"
    }
   ],
   "source": [
    "from matplotlib.pyplot import imshow\n",
    "%matplotlib inline\n",
    "new_flag = SWISS_FLAG.transpose(0,2) # TODO: complete this line!\n",
    "new_flag = new_flag.transpose(0,1)\n",
    "print('The original flag shape: {}.'.format(SWISS_FLAG.shape))\n",
    "print('The modified flag shape: {}.'.format(new_flag.shape))\n",
    "imshow(new_flag)\n"
   ]
  },
  {
   "cell_type": "markdown",
   "metadata": {},
   "source": [
    "**This tutorial is now complete. Please proceed to do the exercise \"Rubik\" from the Github Classroom:**\n",
    "\n",
    "https://classroom.github.com/classrooms/46545598-csci-378-spring-2019"
   ]
  },
  {
   "cell_type": "code",
   "execution_count": null,
   "metadata": {},
   "outputs": [],
   "source": []
  }
 ],
 "metadata": {
  "kernelspec": {
   "display_name": "Python 3",
   "language": "python",
   "name": "python3"
  },
  "language_info": {
   "codemirror_mode": {
    "name": "ipython",
    "version": 3
   },
   "file_extension": ".py",
   "mimetype": "text/x-python",
   "name": "python",
   "nbconvert_exporter": "python",
   "pygments_lexer": "ipython3",
   "version": "3.7.4"
  }
 },
 "nbformat": 4,
 "nbformat_minor": 2
}
